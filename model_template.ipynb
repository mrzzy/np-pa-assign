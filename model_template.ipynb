{
 "cells": [
  {
   "cell_type": "markdown",
   "metadata": {},
   "source": [
    "# NP Predictive Analytics Assignment - Modeling _YOUR NAME HERE_\n",
    "In this notebook we train predictive models in an attempt to accurately predict the final score/final grade\n",
    "\n",
    "## Define Objective\n",
    "The target output variable is the final score of the student \n",
    "- regression subtask: predict final score of the student `G3`\n",
    "- classification subtask: predict final grade of the student `G3Binned`\n",
    "\n",
    "Objective loss functions use to evaluate models: \n",
    "- for regression, the objective loss function would be _CHANGE METRIC_\n",
    "- for classification, the objective loss function would be _CHANGE METRIC_"
   ]
  },
  {
   "cell_type": "markdown",
   "metadata": {},
   "source": [
    "## Setup & Imports"
   ]
  },
  {
   "cell_type": "code",
   "execution_count": 4,
   "metadata": {},
   "outputs": [
    {
     "name": "stdout",
     "output_type": "stream",
     "text": [
      "The autoreload extension is already loaded. To reload it, use:\n",
      "  %reload_ext autoreload\n"
     ]
    }
   ],
   "source": [
    "import os\n",
    "import joblib\n",
    "import numpy as np\n",
    "import matplotlib.pyplot as plt\n",
    "import seaborn as sns\n",
    "import pandas as pd\n",
    "\n",
    "from sklearn.linear_model import *\n",
    "from sklearn.svm import *\n",
    "from sklearn.neighbors import *\n",
    "from sklearn.ensemble import *\n",
    "from sklearn.metrics import *\n",
    "from sklearn.model_selection import *\n",
    "from sklearn.feature_selection import *\n",
    "\n",
    "from sklearn.pipeline import Pipeline\n",
    "from xgboost import XGBClassifier, XGBRegressor\n",
    "\n",
    "from data import dataset, dataprep\n",
    "\n",
    "%matplotlib inline\n",
    "%load_ext autoreload\n",
    "%autoreload 2"
   ]
  },
  {
   "cell_type": "markdown",
   "metadata": {},
   "source": [
    "# Load Data\n",
    "Load preprocessed data prepared for modeling:"
   ]
  },
  {
   "cell_type": "code",
   "execution_count": 5,
   "metadata": {},
   "outputs": [],
   "source": [
    "# math classification \n",
    "(X_math_cls_train, y_math_cls_train,  X_math_cls_test, y_math_cls_test\n",
    ") = dataprep.load_data(\"classify\", \"math\", [\"train\", \"test\"])\n",
    "\n",
    "# math regression\n",
    "(X_math_reg_train, y_math_reg_train,  X_math_reg_test, y_math_reg_test\n",
    ") = dataprep.load_data(\"regression\", \"math\", [\"train\", \"test\"])\n",
    "\n",
    "# portguese classification\n",
    "(X_por_cls_train, y_por_cls_train,  X_por_cls_test, y_por_cls_test\n",
    ") = dataprep.load_data(\"classify\", \"portuguese\", [\"train\", \"test\"])\n",
    "\n",
    "# portguese regression\n",
    "(X_por_reg_train, y_por_reg_train,  X_por_reg_test, y_por_reg_test\n",
    ") = dataprep.load_data(\"regression\", \"portuguese\", [\"train\", \"test\"])"
   ]
  },
  {
   "cell_type": "markdown",
   "metadata": {},
   "source": [
    "## Train MODEL\n",
    "continue: train your model, and so on...\n",
    "\n"
   ]
  }
 ],
 "metadata": {
  "kernelspec": {
   "display_name": "Python 3",
   "language": "python",
   "name": "python3"
  },
  "language_info": {
   "codemirror_mode": {
    "name": "ipython",
    "version": 3
   },
   "file_extension": ".py",
   "mimetype": "text/x-python",
   "name": "python",
   "nbconvert_exporter": "python",
   "pygments_lexer": "ipython3",
   "version": "3.7.6"
  }
 },
 "nbformat": 4,
 "nbformat_minor": 4
}
