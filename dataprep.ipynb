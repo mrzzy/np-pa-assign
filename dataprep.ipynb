{
 "cells": [
  {
   "cell_type": "markdown",
   "metadata": {},
   "source": [
    "# NP Predictive Analytics Assignment - Data Preparation\n",
    "In this notebook we prepare the dataset for modeling"
   ]
  },
  {
   "cell_type": "code",
   "execution_count": 3,
   "metadata": {},
   "outputs": [
    {
     "name": "stdout",
     "output_type": "stream",
     "text": [
      "The autoreload extension is already loaded. To reload it, use:\n",
      "  %reload_ext autoreload\n"
     ]
    }
   ],
   "source": [
    "import os\n",
    "import joblib\n",
    "import pandas as pd\n",
    "import numpy as np\n",
    "import matplotlib.pyplot as plt\n",
    "import seaborn as sns\n",
    "\n",
    "from numpy.ma import polyfit\n",
    "from sklearn.model_selection import train_test_split\n",
    "from sklearn.preprocessing import *\n",
    "from sklearn.compose import ColumnTransformer\n",
    "from sklearn.decomposition import PCA\n",
    "from imblearn.pipeline import Pipeline\n",
    "from imblearn.over_sampling import RandomOverSampler\n",
    "\n",
    "from data import dataset, dataprep\n",
    "\n",
    "sns.set(style=\"whitegrid\")\n",
    "\n",
    "%matplotlib inline\n",
    "%load_ext autoreload\n",
    "%autoreload 2"
   ]
  },
  {
   "cell_type": "markdown",
   "metadata": {},
   "source": [
    "## Load Data\n",
    "Load data from CSV files, merging math and portugese data as before."
   ]
  },
  {
   "cell_type": "code",
   "execution_count": 20,
   "metadata": {},
   "outputs": [],
   "source": [
    "# read data from CSV\n",
    "col_dtypes = { col: \"category\" for col in dataset.cat_features + dataset.bin_features}\n",
    "math_df = pd.read_csv(os.path.join(\"data\", \"Math.csv\"), dtype=col_dtypes)\n",
    "por_df = pd.read_csv(os.path.join(\"data\", \"Por.csv\"), dtype=col_dtypes)\n",
    "\n",
    "# merge data from math and portugese data\n",
    "math_df[\"subject\"] = \"math\"\n",
    "por_df[\"subject\"] = \"portugese\"\n",
    "df = math_df.append(por_df)\n",
    "df = df.reset_index()"
   ]
  },
  {
   "cell_type": "markdown",
   "metadata": {},
   "source": [
    "## Feature Enginnering\n",
    "Hand engineer features to produce better features"
   ]
  },
  {
   "cell_type": "markdown",
   "metadata": {},
   "source": [
    "### Feature Extraction: Abstraction\n",
    "To resolve the power law like distribution of `absences`, we apply `log()`"
   ]
  },
  {
   "cell_type": "code",
   "execution_count": 21,
   "metadata": {},
   "outputs": [
    {
     "data": {
      "text/plain": [
       "<matplotlib.axes._subplots.AxesSubplot at 0x7f6c28944ed0>"
      ]
     },
     "execution_count": 21,
     "metadata": {},
     "output_type": "execute_result"
    },
    {
     "data": {
      "image/png": "[encoded data removed]",
      "text/plain": [
       "<Figure size 432x288 with 1 Axes>"
      ]
     },
     "metadata": {
      "needs_background": "light"
     },
     "output_type": "display_data"
    }
   ],
   "source": [
    "df[\"logAbsences\"] = np.log1p(df[\"absences\"])\n",
    "df[\"logAbsences\"].hist()"
   ]
  },
  {
   "cell_type": "code",
   "execution_count": 22,
   "metadata": {},
   "outputs": [
    {
     "data": {
      "text/plain": [
       "[<matplotlib.lines.Line2D at 0x7f6c12fe1e10>]"
      ]
     },
     "execution_count": 22,
     "metadata": {},
     "output_type": "execute_result"
    },
    {
     "data": {
      "image/png": "[encoded data removed]",
      "text/plain": [
       "<Figure size 432x288 with 1 Axes>"
      ]
     },
     "metadata": {
      "needs_background": "light"
     },
     "output_type": "display_data"
    }
   ],
   "source": [
    "# scatterplot data\n",
    "plt.scatter(df[\"logAbsences\"], df[dataset.target_var])\n",
    "\n",
    "# plot a linear regression line to visualise linear trends\n",
    "b, m = polyfit(df[\"logAbsences\"], df[dataset.target_var], 1)\n",
    "line = m * df[\"logAbsences\"] + b\n",
    "plt.plot(df[\"logAbsences\"], line)"
   ]
  },
  {
   "cell_type": "markdown",
   "metadata": {},
   "source": [
    "Observations:\n",
    "- The relationship between `logAbsences` and final grade appears to be nonlinear."
   ]
  },
  {
   "cell_type": "markdown",
   "metadata": {},
   "source": [
    "To resolve the nonlinear relationship between `logAbsences` and final grade, we can bucket `logAbsences` and convert into an ordinal variable:\n",
    "- class 1 - $0 \\le x \\le 2$\n",
    "- class 2 - $2 \\lt x \\le 2.5$\n",
    "- class 3 - $2.5 \\lt x \\le 3.5$\n",
    "- class 4 - $x \\gt 3.5$"
   ]
  },
  {
   "cell_type": "code",
   "execution_count": 23,
   "metadata": {},
   "outputs": [
    {
     "data": {
      "text/plain": [
       "<matplotlib.axes._subplots.AxesSubplot at 0x7f6c12caf210>"
      ]
     },
     "execution_count": 23,
     "metadata": {},
     "output_type": "execute_result"
    },
    {
     "data": {
      "image/png": "[encoded data removed]",
      "text/plain": [
       "<Figure size 432x288 with 1 Axes>"
      ]
     },
     "metadata": {
      "needs_background": "light"
     },
     "output_type": "display_data"
    }
   ],
   "source": [
    "df[\"absencesBinned\"] = pd.cut(df[\"logAbsences\"], [0,  2, 2.5, 3.5, float(\"inf\")],\n",
    "                              labels=[1, 2, 3, 4], right=True, \n",
    "                              include_lowest=True).astype(\"int\")\n",
    "sns.boxplot(df[\"absencesBinned\"], df[dataset.target_var])"
   ]
  },
  {
   "cell_type": "markdown",
   "metadata": {},
   "source": [
    "### Feature Extraction: the Categorical Variable\n",
    "As suggested by the dataset's research paper, we bucket the raw grades into bins (A,B,C,D,F) in an attempt address data imbalance:\n",
    "- $16 \\le A \\le 20$\n",
    "- $14 \\le B \\le 15$\n",
    "- $12 \\le C \\le 13$\n",
    "- $10 \\le D \\le 11$\n",
    "- $0 \\le F \\le 9$"
   ]
  },
  {
   "cell_type": "code",
   "execution_count": 24,
   "metadata": {},
   "outputs": [],
   "source": [
    "df[\"G3Binned\"] = pd.cut(df[dataset.target_var], [0, 9, 11, 13, 15, 20], \n",
    "                        right=True, include_lowest=True,\n",
    "                        labels=[\"F\", \"D\", \"C\", \"B\", \"A\"]).astype(\"category\")"
   ]
  },
  {
   "cell_type": "code",
   "execution_count": 25,
   "metadata": {},
   "outputs": [
    {
     "data": {
      "text/plain": [
       "<matplotlib.axes._subplots.AxesSubplot at 0x7f6c12ea4e90>"
      ]
     },
     "execution_count": 25,
     "metadata": {},
     "output_type": "execute_result"
    },
    {
     "data": {
      "image/png": "[encoded data removed]",
      "text/plain": [
       "<Figure size 432x288 with 1 Axes>"
      ]
     },
     "metadata": {
      "needs_background": "light"
     },
     "output_type": "display_data"
    }
   ],
   "source": [
    "counts = df[\"G3Binned\"].value_counts()\n",
    "sns.barplot(counts.index, counts.values)"
   ]
  },
  {
   "cell_type": "markdown",
   "metadata": {},
   "source": [
    "Observations:\n",
    "- Binning has resolved some data imbalance.\n",
    "- Resampling can be used to further combat data balance."
   ]
  },
  {
   "cell_type": "markdown",
   "metadata": {},
   "source": [
    "### Feature Combinations\n",
    "Engineer new features by combining existing features"
   ]
  },
  {
   "cell_type": "markdown",
   "metadata": {},
   "source": [
    "- `alc` combines alchol consumption over the entire week, giving more weight to weekday alchol consumption.\n",
    "- `gooutAlc` combines alcohol consumption with going out with friends\n",
    "- `freeAlc` combines alchohol consumption with freetie\n",
    "- `goFriendAlc` combines alchol consumption with going out "
   ]
  },
  {
   "cell_type": "code",
   "execution_count": 26,
   "metadata": {},
   "outputs": [
    {
     "data": {
      "text/plain": [
       "<BarContainer object of 7 artists>"
      ]
     },
     "execution_count": 26,
     "metadata": {},
     "output_type": "execute_result"
    },
    {
     "data": {
      "image/png": "[encoded data removed]",
      "text/plain": [
       "<Figure size 432x288 with 1 Axes>"
      ]
     },
     "metadata": {
      "needs_background": "light"
     },
     "output_type": "display_data"
    }
   ],
   "source": [
    "df[\"alc\"] = (2 * df[\"Dalc\"] + df[\"Walc\"])\n",
    "df[\"freetimeAlc\"] = df[\"alc\"] * df[\"freetime\"]\n",
    "df[\"gooutAlc\"] = df[\"alc\"] * df[\"goout\"]\n",
    "df[\"goFriendAlc\"] = df[\"goout\"] * df[\"freetime\"] * df[\"alc\"]\n",
    "\n",
    "correlations = df.loc[:, [\"Dalc\", \"Walc\", \"goout\", \"alc\", \n",
    "                          \"gooutAlc\", \"freetimeAlc\", \"goFriendAlc\"]\n",
    "                     ].corrwith(df[\"G3\"])\n",
    "plt.barh(correlations.index, correlations)"
   ]
  },
  {
   "cell_type": "markdown",
   "metadata": {},
   "source": [
    "- `failSqrt` square root of failures gives a slightly higher correlation. \n",
    "Perhaps due to the relation betwen `failures` and `G3` being nonlinear."
   ]
  },
  {
   "cell_type": "code",
   "execution_count": 32,
   "metadata": {},
   "outputs": [
    {
     "data": {
      "text/plain": [
       "<BarContainer object of 2 artists>"
      ]
     },
     "execution_count": 32,
     "metadata": {},
     "output_type": "execute_result"
    },
    {
     "data": {
      "image/png": "[encoded data removed]",
      "text/plain": [
       "<Figure size 432x288 with 1 Axes>"
      ]
     },
     "metadata": {
      "needs_background": "light"
     },
     "output_type": "display_data"
    }
   ],
   "source": [
    "df[\"failSqrt\"] = np.sqrt(df[\"failures\"]) \n",
    "\n",
    "correlations = df.loc[:, [\"failures\", \"failSqrt\"]].corrwith(df[\"G3\"])\n",
    "plt.barh(correlations.index, correlations)"
   ]
  },
  {
   "cell_type": "markdown",
   "metadata": {},
   "source": [
    "- `Pedu` combines the education levels of both mother and father\n",
    "- `Psup` parent support: family relations with size of family\n",
    "- `Pedusup` combines parent support and parent education level\n"
   ]
  },
  {
   "cell_type": "code",
   "execution_count": 48,
   "metadata": {},
   "outputs": [
    {
     "data": {
      "text/plain": [
       "<BarContainer object of 6 artists>"
      ]
     },
     "execution_count": 48,
     "metadata": {},
     "output_type": "execute_result"
    },
    {
     "data": {
      "image/png": "[encoded data removed]",
      "text/plain": [
       "<Figure size 432x288 with 1 Axes>"
      ]
     },
     "metadata": {
      "needs_background": "light"
     },
     "output_type": "display_data"
    }
   ],
   "source": [
    "df[\"Pedu\"] = df[\"Fedu\"] + df[\"Medu\"] ** 3\n",
    "df[\"Psup\"] = df[\"famrel\"] ** 2 * df[\"famsize\"].cat.codes\n",
    "df[\"Pedusup\"] = df[\"Pedu\"] + df[\"Psup\"]\n",
    "\n",
    "\n",
    "correlations = df.loc[:, [\"famrel\", \"Fedu\", \"Medu\", \"Pedu\", \n",
    "                          \"Psup\", \"Pedusup\"]].corrwith(df[\"G3\"])\n",
    "plt.barh(correlations.index, correlations)"
   ]
  },
  {
   "cell_type": "markdown",
   "metadata": {},
   "source": [
    "## Data Preparation\n",
    "In this section, we preprocess the data into a form suitable for modeling"
   ]
  },
  {
   "cell_type": "markdown",
   "metadata": {},
   "source": [
    "## Inputs and Outputs\n",
    "Extract & separate the target output variable from the rest of the data\n",
    "- final scores `G3` for regression task\n",
    "- final grades `G3Binnned` for classification task\n"
   ]
  },
  {
   "cell_type": "code",
   "execution_count": 49,
   "metadata": {},
   "outputs": [],
   "source": [
    "final_scores = df[dataprep.reg_target_var]\n",
    "final_grades = df[dataprep.classify_target_var]\n",
    "inputs_df = df.drop(columns=[dataprep.reg_target_var, \n",
    "                             dataprep.classify_target_var])"
   ]
  },
  {
   "cell_type": "markdown",
   "metadata": {},
   "source": [
    "Encode categories into numeric integers"
   ]
  },
  {
   "cell_type": "code",
   "execution_count": 50,
   "metadata": {},
   "outputs": [
    {
     "data": {
      "text/plain": [
       "[(0, 'F'), (1, 'D'), (2, 'C'), (3, 'B'), (4, 'A')]"
      ]
     },
     "execution_count": 50,
     "metadata": {},
     "output_type": "execute_result"
    }
   ],
   "source": [
    "grade_mapping = list(enumerate(final_grades.cat.categories))\n",
    "final_grades = final_grades.cat.codes\n",
    "grade_mapping"
   ]
  },
  {
   "cell_type": "markdown",
   "metadata": {},
   "source": [
    "## Split Dataset\n",
    "Set aside hold out test set for later cross validation\n",
    "- use stratified sampling by final grade `G3Binned` to select examples for test set\n",
    "\n",
    "> Since dataset is relatively small, we stratify the sample by the \n",
    "> final grade to limit the error introduced by sampling bias"
   ]
  },
  {
   "cell_type": "code",
   "execution_count": 52,
   "metadata": {},
   "outputs": [],
   "source": [
    "# generate randomly split indexes that define split \n",
    "train_idxs, test_idxs = train_test_split(list(range(len(df))), \n",
    "                                         shuffle=True,\n",
    "                                         stratify=final_grades,\n",
    "                                         test_size=200)\n",
    "\n",
    "# split dataset based on indexes\n",
    "train_in_df, test_in_df = inputs_df.iloc[train_idxs], inputs_df.iloc[test_idxs]\n",
    "train_scores, test_scores = final_scores[train_idxs], final_scores[test_idxs]\n",
    "train_grades, test_grades = final_grades[train_idxs], final_grades[test_idxs]"
   ]
  },
  {
   "cell_type": "markdown",
   "metadata": {},
   "source": [
    "## Build Data Pipeline\n",
    "Build a Data Pipeline to preprocess the dataset:\n",
    "1. Transform features into form suitable for modeling\n",
    "    - numeric features - feature scale using Z-score transform\n",
    "    - categorical features - feature extraction by one hot encoding\n",
    "    - binary features - feature extraction by ordinal encoding\n",
    "   "
   ]
  },
  {
   "cell_type": "code",
   "execution_count": 58,
   "metadata": {},
   "outputs": [],
   "source": [
    "df_transformer = ColumnTransformer([\n",
    "        (\"cat_pipeline\", OneHotEncoder(), dataprep.cat_features),\n",
    "        (\"bin_pipeline\", OrdinalEncoder(), dataprep.bin_features),\n",
    "        (\"num_pipeline\", StandardScaler(), dataprep.num_features)]\n",
    ")"
   ]
  },
  {
   "cell_type": "code",
   "execution_count": 59,
   "metadata": {},
   "outputs": [],
   "source": [
    "pipeline = Pipeline([\n",
    "    (\"transformer\", df_transformer),\n",
    "])"
   ]
  },
  {
   "cell_type": "markdown",
   "metadata": {},
   "source": [
    "## Prepare Data\n",
    "Use the built data pipelines to prepare dataset for modeling"
   ]
  },
  {
   "cell_type": "code",
   "execution_count": 61,
   "metadata": {},
   "outputs": [],
   "source": [
    "pipeline.fit(train_in_df)\n",
    "train_data = pipeline.transform(train_in_df)\n",
    "test_data = pipeline.transform(test_in_df)"
   ]
  },
  {
   "cell_type": "markdown",
   "metadata": {},
   "source": [
    "### Data Imbalance\n",
    "Perform random duplication of data example with a minority classes/label final grade to combat data imbalance.\n",
    "\n",
    "> This is important as the data imbalance would cause the classifer\n",
    "> to be biased towards the majority class/label instead of trying to\n",
    "> predict all classes/labels accurately."
   ]
  },
  {
   "cell_type": "code",
   "execution_count": 62,
   "metadata": {},
   "outputs": [],
   "source": [
    "resampler = RandomOverSampler()\n",
    "rs_train_data, rs_train_grades = resampler.fit_resample(train_data, train_grades)"
   ]
  },
  {
   "cell_type": "markdown",
   "metadata": {},
   "source": [
    "## Commit Data\n",
    "Commit prepared data and objects used to prepare data"
   ]
  },
  {
   "cell_type": "code",
   "execution_count": 63,
   "metadata": {},
   "outputs": [],
   "source": [
    "np.savez_compressed(os.path.join(\"build\", \"dataprep.npz\"),\n",
    "                    # test data\n",
    "                    test_data=test_data,\n",
    "                    test_scores=test_scores,\n",
    "                    test_grades=test_grades,\n",
    "                    # regression training data\n",
    "                    reg_train_data=train_data,\n",
    "                    reg_train_scores=train_scores,\n",
    "                    # classification data\n",
    "                    classify_train_data=rs_train_data,\n",
    "                    classify_train_grades=rs_train_grades,\n",
    "                    train_idxs=train_idxs, test_idxs=test_idxs)"
   ]
  },
  {
   "cell_type": "code",
   "execution_count": 64,
   "metadata": {},
   "outputs": [
    {
     "data": {
      "text/plain": [
       "['build/dataprep.joblib']"
      ]
     },
     "execution_count": 64,
     "metadata": {},
     "output_type": "execute_result"
    }
   ],
   "source": [
    "joblib.dump({\n",
    "    \"pipeline\": pipeline,\n",
    "    \"grade_mapping\": grade_mapping\n",
    "}, os.path.join(\"build\",\"dataprep.joblib\"))"
   ]
  }
 ],
 "metadata": {
  "kernelspec": {
   "display_name": "Python 3",
   "language": "python",
   "name": "python3"
  },
  "language_info": {
   "codemirror_mode": {
    "name": "ipython",
    "version": 3
   },
   "file_extension": ".py",
   "mimetype": "text/x-python",
   "name": "python",
   "nbconvert_exporter": "python",
   "pygments_lexer": "ipython3",
   "version": "3.7.6"
  }
 },
 "nbformat": 4,
 "nbformat_minor": 4
}
