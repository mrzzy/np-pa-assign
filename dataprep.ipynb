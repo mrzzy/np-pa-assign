{
 "cells": [
  {
   "cell_type": "markdown",
   "metadata": {},
   "source": [
    "# NP Predictive Analytics Assignment - Data Preparation\n",
    "In this notebook we prepare the dataset for modeling"
   ]
  },
  {
   "cell_type": "code",
   "execution_count": 45,
   "metadata": {},
   "outputs": [
    {
     "name": "stdout",
     "output_type": "stream",
     "text": [
      "The autoreload extension is already loaded. To reload it, use:\n",
      "  %reload_ext autoreload\n"
     ]
    }
   ],
   "source": [
    "import os\n",
    "import joblib\n",
    "import pandas as pd\n",
    "import numpy as np\n",
    "import matplotlib.pyplot as plt\n",
    "import seaborn as sns\n",
    "from sklearn.model_selection import train_test_split\n",
    "from sklearn.preprocessing import StandardScaler, OneHotEncoder, OrdinalEncoder\n",
    "from sklearn.compose import ColumnTransformer\n",
    "from sklearn.decomposition import PCA\n",
    "from imblearn.pipeline import Pipeline\n",
    "from imblearn.over_sampling import RandomOverSampler\n",
    "\n",
    "from data import dataset, dataprep\n",
    "\n",
    "sns.set(style=\"whitegrid\")\n",
    "\n",
    "%matplotlib inline\n",
    "%load_ext autoreload\n",
    "%autoreload 2"
   ]
  },
  {
   "cell_type": "markdown",
   "metadata": {},
   "source": [
    "## Load Data\n",
    "Load dataframe from EDA:"
   ]
  },
  {
   "cell_type": "code",
   "execution_count": 49,
   "metadata": {},
   "outputs": [
    {
     "data": {
      "text/plain": [
       "1044"
      ]
     },
     "execution_count": 49,
     "metadata": {},
     "output_type": "execute_result"
    }
   ],
   "source": [
    "df = pd.read_feather(os.path.join(\"build\", \"dataset.feather\"))\n",
    "len(df)"
   ]
  },
  {
   "cell_type": "markdown",
   "metadata": {},
   "source": [
    "## Inputs and Outputs\n",
    "Extract & separate the target output variable from the rest of the data\n",
    "- final scores `G3` for regression task\n",
    "- final grades `G3Binnned` for classification task\n"
   ]
  },
  {
   "cell_type": "code",
   "execution_count": 53,
   "metadata": {},
   "outputs": [],
   "source": [
    "final_scores = df[dataprep.reg_target_var]\n",
    "final_grades = df[dataprep.classify_target_var]\n",
    "inputs_df = df.drop(columns=[dataprep.reg_target_var, \n",
    "                             dataprep.classify_target_var])"
   ]
  },
  {
   "cell_type": "markdown",
   "metadata": {},
   "source": [
    "Encode categories into numeric integers"
   ]
  },
  {
   "cell_type": "code",
   "execution_count": 54,
   "metadata": {},
   "outputs": [
    {
     "data": {
      "text/plain": [
       "[(0, 'F'), (1, 'D'), (2, 'C'), (3, 'B'), (4, 'A')]"
      ]
     },
     "execution_count": 54,
     "metadata": {},
     "output_type": "execute_result"
    }
   ],
   "source": [
    "grade_mapping = list(enumerate(final_grades.cat.categories))\n",
    "final_grades = final_grades.cat.codes\n",
    "grade_mapping"
   ]
  },
  {
   "cell_type": "markdown",
   "metadata": {},
   "source": [
    "## Split Dataset\n",
    "Set aside hold out test set for later cross validation\n",
    "- use stratified sampling by final grade `G3Binned` to select examples for test set\n",
    "\n",
    "> Since dataset is relatively small, we stratify the sample by the \n",
    "> final grade to limit the error introduced by sampling bias"
   ]
  },
  {
   "cell_type": "code",
   "execution_count": 55,
   "metadata": {},
   "outputs": [],
   "source": [
    "# generate randomly split indexes that define split \n",
    "\n",
    "train_idxs, test_idxs = train_test_split(list(range(len(df))), \n",
    "                                         shuffle=True,\n",
    "                                         stratify=final_grades,\n",
    "                                         test_size=200)\n",
    "\n",
    "# split dataset based on indexes\n",
    "train_in_df, test_in_df = inputs_df.iloc[train_idxs], inputs_df.iloc[test_idxs]\n",
    "train_scores, test_scores = final_scores[train_idxs], final_scores[test_idxs]\n",
    "train_grades, test_grades = final_grades[train_idxs], final_grades[test_idxs]"
   ]
  },
  {
   "cell_type": "markdown",
   "metadata": {},
   "source": [
    "## Build Data Pipeline\n",
    "Build a Data Pipeline to preprocess the dataset:\n",
    "1. Transform features into form suitable for modeling\n",
    "    - numeric features - feature scale using Z-score transform\n",
    "    - categorical features - feature extraction by one hot encoding\n",
    "    - binary features - feature extraction by ordinal encoding\n",
    "   "
   ]
  },
  {
   "cell_type": "code",
   "execution_count": 56,
   "metadata": {},
   "outputs": [],
   "source": [
    "df_transformer = ColumnTransformer([\n",
    "        (\"num_pipeline\", StandardScaler(), dataprep.num_features),\n",
    "        (\"cat_pipeline\", OneHotEncoder(), dataprep.cat_features),\n",
    "        (\"bin_pipeline\", OrdinalEncoder(), dataprep.bin_features)]\n",
    ")"
   ]
  },
  {
   "cell_type": "code",
   "execution_count": 57,
   "metadata": {},
   "outputs": [],
   "source": [
    "pipeline = Pipeline([\n",
    "    (\"transformer\", df_transformer),\n",
    "])"
   ]
  },
  {
   "cell_type": "markdown",
   "metadata": {},
   "source": [
    "#TODO: things to try in data preparation\n",
    "- PCA\n",
    "- Isolation forest to remove outliers"
   ]
  },
  {
   "cell_type": "markdown",
   "metadata": {},
   "source": [
    "## Prepare Data\n",
    "Use the built data pipelines to prepare dataset for modeling"
   ]
  },
  {
   "cell_type": "code",
   "execution_count": 58,
   "metadata": {},
   "outputs": [],
   "source": [
    "pipeline.fit(train_in_df)\n",
    "train_data = pipeline.transform(train_in_df)\n",
    "test_data = pipeline.transform(test_in_df)"
   ]
  },
  {
   "cell_type": "markdown",
   "metadata": {},
   "source": [
    "### Data Imbalance\n",
    "Perform random duplication of data example with a minority classes/label final grade to combat data imbalance.\n",
    "\n",
    "> This is important as the data imbalance would cause the classifer\n",
    "> to be biased towards the majority class/label instead of trying to\n",
    "> predict all classes/labels accurately."
   ]
  },
  {
   "cell_type": "code",
   "execution_count": 59,
   "metadata": {},
   "outputs": [],
   "source": [
    "resampler = RandomOverSampler()\n",
    "rs_train_data, rs_train_grades = resampler.fit_resample(train_data, train_grades)"
   ]
  },
  {
   "cell_type": "markdown",
   "metadata": {},
   "source": [
    "## Commit Data\n",
    "Commit prepared data and objects used to prepare data"
   ]
  },
  {
   "cell_type": "code",
   "execution_count": 62,
   "metadata": {},
   "outputs": [],
   "source": [
    "np.savez_compressed(os.path.join(\"build\", \"dataprep.npz\"),\n",
    "                    # test data\n",
    "                    test_data=test_data,\n",
    "                    test_scores=test_scores,\n",
    "                    test_grades=test_grades,\n",
    "                    # regression training data\n",
    "                    reg_train_data=train_data,\n",
    "                    reg_train_scores=train_scores,\n",
    "                    # classification data\n",
    "                    classify_train_data=rs_train_data,\n",
    "                    classify_train_grades=rs_train_grades,\n",
    "                    train_idxs=train_idxs, test_idxs=test_idxs)"
   ]
  },
  {
   "cell_type": "code",
   "execution_count": 63,
   "metadata": {},
   "outputs": [
    {
     "data": {
      "text/plain": [
       "['build/dataprep.joblib']"
      ]
     },
     "execution_count": 63,
     "metadata": {},
     "output_type": "execute_result"
    }
   ],
   "source": [
    "joblib.dump({\n",
    "    \"pipeline\": pipeline,\n",
    "    \"grade_mapping\": grade_mapping\n",
    "}, os.path.join(\"build\",\"dataprep.joblib\"))"
   ]
  }
 ],
 "metadata": {
  "kernelspec": {
   "display_name": "Python 3",
   "language": "python",
   "name": "python3"
  },
  "language_info": {
   "codemirror_mode": {
    "name": "ipython",
    "version": 3
   },
   "file_extension": ".py",
   "mimetype": "text/x-python",
   "name": "python",
   "nbconvert_exporter": "python",
   "pygments_lexer": "ipython3",
   "version": "3.7.6"
  }
 },
 "nbformat": 4,
 "nbformat_minor": 4
}
