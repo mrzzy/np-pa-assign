{
 "cells": [
  {
   "cell_type": "markdown",
   "metadata": {},
   "source": [
    "# NP Predictive Analytics Assignment - Data Preparation\n",
    "In this notebook we prepare the dataset for modeling"
   ]
  },
  {
   "cell_type": "code",
   "execution_count": 1,
   "metadata": {},
   "outputs": [],
   "source": [
    "import os\n",
    "import joblib\n",
    "import pandas as pd\n",
    "import numpy as np\n",
    "import matplotlib.pyplot as plt\n",
    "import seaborn as sns\n",
    "\n",
    "from numpy.ma import polyfit\n",
    "from sklearn.model_selection import train_test_split\n",
    "from sklearn.preprocessing import *\n",
    "from sklearn.compose import ColumnTransformer\n",
    "from sklearn.decomposition import PCA\n",
    "from sklearn.pipeline import Pipeline\n",
    "from imblearn.over_sampling import RandomOverSampler\n",
    "\n",
    "from data import dataset, dataprep\n",
    "\n",
    "sns.set(style=\"whitegrid\")\n",
    "\n",
    "%matplotlib inline\n",
    "%load_ext autoreload\n",
    "%autoreload 2"
   ]
  },
  {
   "cell_type": "markdown",
   "metadata": {},
   "source": [
    "## Load Data\n",
    "Load data from CSV files, merging math and portuguese data as before."
   ]
  },
  {
   "cell_type": "code",
   "execution_count": 2,
   "metadata": {},
   "outputs": [],
   "source": [
    "# read data from CSV\n",
    "col_dtypes = { col: \"category\" for col in dataset.cat_features + dataset.bin_features}\n",
    "math_df = pd.read_csv(os.path.join(\"data\", \"Math.csv\"), dtype=col_dtypes)\n",
    "por_df = pd.read_csv(os.path.join(\"data\", \"Por.csv\"), dtype=col_dtypes)\n",
    "\n",
    "# merge data from math and portuguese data\n",
    "math_df[\"subject\"] = \"math\"\n",
    "por_df[\"subject\"] = \"portuguese\"\n",
    "df = math_df.append(por_df)\n",
    "df = df.reset_index()"
   ]
  },
  {
   "cell_type": "markdown",
   "metadata": {},
   "source": [
    "### Feature Extraction: Final Grades\n",
    "As suggested by the dataset's research paper, we bucket the raw scores into bins (A,B,C,D,F) in an attempt address data imbalance:\n",
    "- $16 \\le A \\le 20$\n",
    "- $14 \\le B \\le 15$\n",
    "- $12 \\le C \\le 13$\n",
    "- $10 \\le D \\le 11$\n",
    "- $0 \\le F \\le 9$"
   ]
  },
  {
   "cell_type": "code",
   "execution_count": 3,
   "metadata": {},
   "outputs": [],
   "source": [
    "df[\"G3Binned\"] = pd.cut(df[dataset.target_var], [0, 9, 11, 13, 15, 20], \n",
    "                        right=True, include_lowest=True,\n",
    "                        labels=[\"F\", \"D\", \"C\", \"B\", \"A\"]).astype(\"category\")"
   ]
  },
  {
   "cell_type": "code",
   "execution_count": 4,
   "metadata": {},
   "outputs": [
    {
     "data": {
      "text/plain": [
       "<matplotlib.axes._subplots.AxesSubplot at 0x7f6a6c53be50>"
      ]
     },
     "execution_count": 4,
     "metadata": {},
     "output_type": "execute_result"
    },
    {
     "data": {
      "image/png": "[encoded data removed]",
      "text/plain": [
       "<Figure size 432x288 with 1 Axes>"
      ]
     },
     "metadata": {
      "needs_background": "light"
     },
     "output_type": "display_data"
    }
   ],
   "source": [
    "counts = df[\"G3Binned\"].value_counts()\n",
    "sns.barplot(counts.index, counts.values)"
   ]
  },
  {
   "cell_type": "markdown",
   "metadata": {},
   "source": [
    "Observations:\n",
    "- Binning has resolved some data imbalance.\n",
    "- Resampling can be used to further combat data imbalance."
   ]
  },
  {
   "cell_type": "markdown",
   "metadata": {},
   "source": [
    "### Inputs and Outputs\n",
    "Extract & separate the target output variable from the rest of the data\n",
    "- final scores `G3` for regression task\n",
    "- final grades `G3Binnned` for classification task\n"
   ]
  },
  {
   "cell_type": "code",
   "execution_count": 5,
   "metadata": {},
   "outputs": [],
   "source": [
    "final_scores = df[dataprep.reg_target_var]\n",
    "final_grades = df[dataprep.classify_target_var]\n",
    "inputs_df = df.drop(columns=[dataprep.reg_target_var, \n",
    "                             dataprep.classify_target_var])"
   ]
  },
  {
   "cell_type": "markdown",
   "metadata": {},
   "source": [
    "Encode categories into numeric integers"
   ]
  },
  {
   "cell_type": "code",
   "execution_count": 6,
   "metadata": {},
   "outputs": [
    {
     "data": {
      "text/plain": [
       "[(0, 'F'), (1, 'D'), (2, 'C'), (3, 'B'), (4, 'A')]"
      ]
     },
     "execution_count": 6,
     "metadata": {},
     "output_type": "execute_result"
    }
   ],
   "source": [
    "grade_mapping = list(enumerate(final_grades.cat.categories))\n",
    "final_grades = final_grades.cat.codes\n",
    "grade_mapping"
   ]
  },
  {
   "cell_type": "markdown",
   "metadata": {},
   "source": [
    "### Hold Out Test Set\n",
    "Set aside hold out test set for later cross validation\n",
    "- use stratified sampling by final grade `G3Binned` to select examples for test set\n",
    "\n",
    "> Since dataset is relatively small, we stratify the sample by the \n",
    "> final grade to limit the error introduced by sampling bias"
   ]
  },
  {
   "cell_type": "code",
   "execution_count": 7,
   "metadata": {},
   "outputs": [
    {
     "name": "stdout",
     "output_type": "stream",
     "text": [
      "train examples: 835, test examples: 209\n"
     ]
    }
   ],
   "source": [
    "# generate randomly split indexes that define split \n",
    "train_idxs, test_idxs = train_test_split(list(range(len(df))), \n",
    "                                         shuffle=True,\n",
    "                                         stratify=final_grades,\n",
    "                                         random_state=42,\n",
    "                                         test_size=0.2)\n",
    "print(f\"train examples: {len(train_idxs)}, test examples: {len(test_idxs)}\")\n",
    "\n",
    "# split dataset based on indexes\n",
    "train_in_df = inputs_df.iloc[train_idxs].copy()\n",
    "test_in_df = inputs_df.iloc[test_idxs].copy()\n",
    "train_scores, test_scores = final_scores[train_idxs], final_scores[test_idxs]\n",
    "train_grades, test_grades = final_grades[train_idxs], final_grades[test_idxs]"
   ]
  },
  {
   "cell_type": "markdown",
   "metadata": {},
   "source": [
    "## Feature Engineering\n",
    "Hand engineer input features to produce better features"
   ]
  },
  {
   "cell_type": "code",
   "execution_count": 8,
   "metadata": {},
   "outputs": [],
   "source": [
    "df = train_in_df.copy()"
   ]
  },
  {
   "cell_type": "markdown",
   "metadata": {},
   "source": [
    "### Feature Combinations\n",
    "Engineer new features by combining existing features"
   ]
  },
  {
   "cell_type": "markdown",
   "metadata": {},
   "source": [
    "Engineered features:\n",
    "- `alc` combines alchol consumption over the entire week, giving more weight to weekday alchol consumption.\n",
    "- `gooutAlc` combines alcohol consumption with going out\n",
    "- `ageAlc` - combine alcohol consumption with age\n",
    "- `freeAlc` combines alchohol consumption with freetime\n",
    "- `goFreeAlc` combines freetime with going out with alchol consumption\n",
    "- `goFreeAlcAge`  combines freetime with going out with alchol consumption and age\n",
    "- `studyAlc` - combines study "
   ]
  },
  {
   "cell_type": "code",
   "execution_count": 9,
   "metadata": {},
   "outputs": [
    {
     "data": {
      "text/plain": [
       "<BarContainer object of 11 artists>"
      ]
     },
     "execution_count": 9,
     "metadata": {},
     "output_type": "execute_result"
    },
    {
     "data": {
      "image/png": "[encoded data removed]",
      "text/plain": [
       "<Figure size 432x288 with 1 Axes>"
      ]
     },
     "metadata": {
      "needs_background": "light"
     },
     "output_type": "display_data"
    }
   ],
   "source": [
    "df[\"alc\"]= df[\"Dalc\"] + df[\"Walc\"]\n",
    "df[\"freeAlc\"] = df[\"alc\"] * df[\"freetime\"]\n",
    "df[\"gooutAlc\"] = df[\"alc\"] * df[\"goout\"]\n",
    "df[\"ageAlc\"] = df[\"age\"] * df[\"alc\"]\n",
    "df[\"goFreeAlc\"] = df[\"goout\"] * df[\"freetime\"] * df[\"alc\"]\n",
    "df[\"goFreeAlcAge\"] = df[\"goout\"] * df[\"freetime\"] * df[\"alc\"] * df[\"age\"] \n",
    "df[\"alcStudyAge\"] = df[\"alc\"] * df[\"age\"] / df[\"studytime\"] \n",
    "\n",
    "correlations = df.loc[:, [\"Dalc\", \"Walc\", \"age\", \"goout\", \"alc\", \n",
    "                          \"gooutAlc\", \"freeAlc\", \"ageAlc\", \"goFreeAlc\",\n",
    "                          \"goFreeAlcAge\", \"alcStudyAge\"]].corrwith(train_scores)\n",
    "plt.barh(correlations.index, correlations)"
   ]
  },
  {
   "cell_type": "markdown",
   "metadata": {},
   "source": [
    "> `goFreeAlcAge` & `alcStudyAge` will replace the component features, except for `studytime`"
   ]
  },
  {
   "cell_type": "markdown",
   "metadata": {},
   "source": [
    "Engineered features:\n",
    "- `locVal` attempts to capture the value of the location of the student"
   ]
  },
  {
   "cell_type": "code",
   "execution_count": 10,
   "metadata": {},
   "outputs": [
    {
     "name": "stdout",
     "output_type": "stream",
     "text": [
      "Fedu          0.167806\n",
      "Medu          0.216021\n",
      "locVal        0.226561\n",
      "traveltime   -0.103025\n",
      "dtype: float64\n"
     ]
    },
    {
     "data": {
      "text/plain": [
       "<BarContainer object of 4 artists>"
      ]
     },
     "execution_count": 10,
     "metadata": {},
     "output_type": "execute_result"
    },
    {
     "data": {
      "image/png": "[encoded data removed]",
      "text/plain": [
       "<Figure size 432x288 with 1 Axes>"
      ]
     },
     "metadata": {
      "needs_background": "light"
     },
     "output_type": "display_data"
    }
   ],
   "source": [
    "df[\"locVal\"] = df[\"Medu\"] / df[\"traveltime\"]\n",
    "\n",
    "correlations = df.loc[:, [\"Fedu\", \"Medu\",\n",
    "                          \"locVal\", \"traveltime\"]].corrwith(train_scores)\n",
    "\n",
    "print(correlations)\n",
    "plt.barh(correlations.index, correlations)"
   ]
  },
  {
   "cell_type": "markdown",
   "metadata": {},
   "source": [
    "> `locVal` will replace component features"
   ]
  },
  {
   "cell_type": "markdown",
   "metadata": {},
   "source": [
    "- `failSqrt` square root of failures gives a slightly higher correlation. \n",
    "- `agePow` polynomial term of age give tiny bump to corelation"
   ]
  },
  {
   "cell_type": "code",
   "execution_count": 11,
   "metadata": {},
   "outputs": [
    {
     "data": {
      "text/plain": [
       "<BarContainer object of 4 artists>"
      ]
     },
     "execution_count": 11,
     "metadata": {},
     "output_type": "execute_result"
    },
    {
     "data": {
      "image/png": "[encoded data removed]",
      "text/plain": [
       "<Figure size 432x288 with 1 Axes>"
      ]
     },
     "metadata": {
      "needs_background": "light"
     },
     "output_type": "display_data"
    }
   ],
   "source": [
    "df[\"failSqrt\"] = np.sqrt(df[\"failures\"]) \n",
    "df[\"agePow\"] = df[\"age\"] ** 6.5\n",
    "\n",
    "correlations = df.loc[:, [\"failures\", \"failSqrt\", \n",
    "                          \"age\", \"agePow\"]].corrwith(train_scores)\n",
    "plt.barh(correlations.index, correlations)"
   ]
  },
  {
   "cell_type": "markdown",
   "metadata": {},
   "source": [
    "> `failSqrt` would replace `failures` & `agePow` would replace `age`"
   ]
  },
  {
   "cell_type": "markdown",
   "metadata": {},
   "source": [
    "## Data Preparation\n",
    "In this section, we preprocess the data into a form suitable for modeling"
   ]
  },
  {
   "cell_type": "markdown",
   "metadata": {},
   "source": [
    "### Split Dataset\n",
    "Split up dataset to apply the different preprocessing steps required to \n",
    "prepare the data for different subtasks.\n",
    "\n",
    "Split by:\n",
    "- task - whether data is meant to perform classification or regression\n",
    "- subset - part of the train or test subset of the data\n",
    "- subject - from math of portuguese datasets"
   ]
  },
  {
   "cell_type": "code",
   "execution_count": 12,
   "metadata": {},
   "outputs": [
    {
     "name": "stdout",
     "output_type": "stream",
     "text": [
      "======== task: classify ========\n",
      "math_train no. of examples: 322\n",
      "math_test no. of examples: 73\n",
      "portuguese_train no. of examples: 513\n",
      "portuguese_test no. of examples: 136\n",
      "======== task: regression ========\n",
      "math_train no. of examples: 322\n",
      "math_test no. of examples: 73\n",
      "portuguese_train no. of examples: 513\n",
      "portuguese_test no. of examples: 136\n"
     ]
    }
   ],
   "source": [
    "subjects = df[\"subject\"].unique()\n",
    "tasks = [\"classify\", \"regression\"]\n",
    "\n",
    "# split train & test inputs by subject\n",
    "input_dfs = {} #[task][subject_subset]\n",
    "outputs = {} #[task][subject_subset]\n",
    "\n",
    "for task in tasks:\n",
    "    # create dict for task if  does not already exist \n",
    "    if not task in input_dfs: input_dfs[task] = {}\n",
    "    if not task in outputs: outputs[task] = {}\n",
    "\n",
    "    for subject in subjects:\n",
    "        for subset, in_df, scores, grades in zip([\"train\", \"test\"], \n",
    "                                              [train_in_df, test_in_df],\n",
    "                                              [train_scores, test_scores], \n",
    "                                              [train_grades, test_grades]):\n",
    "            subset_id = f\"{subject}_{subset}\"\n",
    "            input_dfs[task][subset_id] = in_df[in_df[\"subject\"] == subject].copy()\n",
    "            \n",
    "            if task == \"regression\":\n",
    "                outputs[task][subset_id] = scores[in_df[\"subject\"] == subject]\n",
    "            else:\n",
    "                outputs[task][subset_id] = grades[in_df[\"subject\"] == subject]\n",
    "\n",
    "\n",
    "# print out no. of examples in each subset of the dataset\n",
    "for task, task_dfs in input_dfs.items():\n",
    "    print(f\"======== task: {task} ========\")\n",
    "    for subset, in_df in task_dfs.items():\n",
    "        print(f\"{subset} no. of examples: {len(in_df)}\")"
   ]
  },
  {
   "cell_type": "markdown",
   "metadata": {},
   "source": [
    "### Build Data Pipeline\n",
    "Build a Data Pipeline to preprocess the dataset:\n",
    "1. Feature Transformer that adds features detailed in the <a href=\"#Feature-Engineering\">Feature Engineering Section</a>\n",
    "2. Transform features into form suitable for modeling\n",
    "    - removes features (`famrel`,`health`,`absences`,`sex`,`Pstatus`,`famsup`)\n",
    "      not useful to the prediction of the final grade `G3`.\n",
    "    - numeric features - feature scale using Z-score transform\n",
    "    - categorical features - feature extraction by one hot encoding\n",
    "    - binary features - feature extraction by ordinal encoding"
   ]
  },
  {
   "cell_type": "code",
   "execution_count": 21,
   "metadata": {},
   "outputs": [],
   "source": [
    "# build & return data pipeline\n",
    "# has_features - whether to include feature extractor in data pipeline\n",
    "def build_pipeline(has_features=True):\n",
    "    # pipeline steps\n",
    "    steps = []\n",
    "   \n",
    "    # feature extractor\n",
    "    if has_features: steps += [(\"feat_extractor\", dataprep.FeatureExtractor())]\n",
    "    \n",
    "    # dataset transformer\n",
    "    cat_features = dataprep.cat_features if has_features else dataset.cat_features\n",
    "    bin_features = dataprep.bin_features if has_features else dataset.bin_features\n",
    "    num_features = dataprep.num_features if has_features else dataset.num_features\n",
    "    \n",
    "    steps += [ \n",
    "        (\"df_transformer\", ColumnTransformer([\n",
    "            (\"cat_pipeline\", OneHotEncoder(), cat_features),\n",
    "            (\"bin_pipeline\", OrdinalEncoder(), bin_features),\n",
    "            (\"num_pipeline\", StandardScaler(), num_features)]\n",
    "        ))\n",
    "    ]\n",
    "    \n",
    "    return Pipeline(steps)\n",
    "\n",
    "pipelines = {} # [task][subject]\n",
    "for task in tasks:\n",
    "    # create dict for task if not exist\n",
    "    if not task in pipelines: pipelines[task] = {}\n",
    "    for subject in subjects:\n",
    "        pipelines[task][subject] = build_pipeline(has_features=True)"
   ]
  },
  {
   "cell_type": "markdown",
   "metadata": {},
   "source": [
    "### Prepare Data with Data Pipeline\n",
    "Use the built data pipelines to prepare input data for modeling"
   ]
  },
  {
   "cell_type": "code",
   "execution_count": 22,
   "metadata": {},
   "outputs": [],
   "source": [
    "input_data = {}\n",
    "for task in tasks:\n",
    "    if not task in input_data: input_data[task] = {}\n",
    "    for subject in subjects:\n",
    "        # fit parameters of data pipeline\n",
    "        pipelines[task][subject].fit(input_dfs[task][f\"{subject}_train\"])\n",
    "        \n",
    "        # prepare input data using data pipeline\n",
    "        for subset in [\"train\", \"test\"]:\n",
    "            subset_id = f\"{subject}_{subset}\"\n",
    "            input_data[task][subset_id] = pipelines[task][subject].transform(\n",
    "                input_dfs[task][subset_id])"
   ]
  },
  {
   "cell_type": "markdown",
   "metadata": {},
   "source": [
    "### Data Imbalance\n",
    "Extra Steps to process data for classification task to combat data imbalance:\n",
    "- Perform random duplication of data example with a minority classes/label final grade to combat data imbalance.\n",
    "> This is important as the data imbalance would cause the classifer\n",
    "> to be biased towards the majority class/label instead of trying to\n",
    "> predict all classes/labels accurately."
   ]
  },
  {
   "cell_type": "code",
   "execution_count": 23,
   "metadata": {},
   "outputs": [],
   "source": [
    "for subject in subjects:\n",
    "    for subset in [\"train\", \"test\"]:\n",
    "        subset_id = f\"{subject}_{subset}\"\n",
    "        X = input_data[\"classify\"][subset_id]\n",
    "        y = outputs[\"classify\"][subset_id]\n",
    "        \n",
    "        resampler = RandomOverSampler(random_state=42)\n",
    "        X, y = resampler.fit_resample(X, y)\n",
    "    \n",
    "        input_data[\"classify\"][subset_id] = X\n",
    "        outputs[\"classify\"][subset_id] = y"
   ]
  },
  {
   "cell_type": "markdown",
   "metadata": {},
   "source": [
    "## Commit Data\n",
    "Commit prepared data and objects used to prepare data"
   ]
  },
  {
   "cell_type": "code",
   "execution_count": 24,
   "metadata": {},
   "outputs": [
    {
     "data": {
      "text/plain": [
       "['build/dataprep.joblib']"
      ]
     },
     "execution_count": 24,
     "metadata": {},
     "output_type": "execute_result"
    }
   ],
   "source": [
    "os.makedirs(\"build\", exist_ok=True)\n",
    "        \n",
    "joblib.dump({\n",
    "    \"subjects\": subjects,\n",
    "    \"tasks\": tasks,\n",
    "    \"pipelines\": pipelines,\n",
    "    \"input_data\": input_data,\n",
    "    \"outputs\": outputs,\n",
    "    \"grade_mapping\": grade_mapping\n",
    "}, os.path.join(\"build\",\"dataprep.joblib\"), compress=9)"
   ]
  }
 ],
 "metadata": {
  "kernelspec": {
   "display_name": "Python 3",
   "language": "python",
   "name": "python3"
  },
  "language_info": {
   "codemirror_mode": {
    "name": "ipython",
    "version": 3
   },
   "file_extension": ".py",
   "mimetype": "text/x-python",
   "name": "python",
   "nbconvert_exporter": "python",
   "pygments_lexer": "ipython3",
   "version": "3.7.6"
  }
 },
 "nbformat": 4,
 "nbformat_minor": 4
}
